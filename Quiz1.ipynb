{
  "nbformat": 4,
  "nbformat_minor": 0,
  "metadata": {
    "colab": {
      "name": "Python101.ipynb",
      "provenance": [],
      "include_colab_link": true
    },
    "kernelspec": {
      "name": "python3",
      "display_name": "Python 3"
    },
    "language_info": {
      "name": "python"
    }
  },
  "cells": [
    {
      "cell_type": "markdown",
      "metadata": {
        "id": "view-in-github",
        "colab_type": "text"
      },
      "source": [
        "<a href=\"https://colab.research.google.com/github/Thippawan72/Pytron_dataviz2023/blob/main/Quiz1.ipynb\" target=\"_parent\"><img src=\"https://colab.research.google.com/assets/colab-badge.svg\" alt=\"Open In Colab\"/></a>"
      ]
    },
    {
      "cell_type": "markdown",
      "source": [
        "ข้อความในช่อง text เป็นภาษา Markdown (https://www.markdownguide.org/cheat-sheet/)"
      ],
      "metadata": {
        "id": "2wZDJQl9Im3N"
      }
    },
    {
      "cell_type": "markdown",
      "source": [
        "#Python 101\n",
        "\n",
        "##-String\n",
        "\n",
        "print(‘มา',end=100*'ก')\n",
        "\n",
        "print('stat',end=',') #end= คือลงท้ายด้วยอะไร.... แบบไม่ต้องขึ้นบรรทัดใหม่\n",
        "\n",
        "##-Variables\n",
        "\n",
        "modulo (%) #การหารเอาเศษ เช็คเลขคู่เลขคี่ได้ด้วยการหารด้วย2\n",
        "\n",
        "ตรวจสอบชนิดของตัวแปรด้วยคำสั่ง type()\n",
        "\n",
        "##-Advanced Printing\n",
        "\n",
        "print(f'ข้อความ{code}') ห้ามมีเว้นวรรคในชื่อตัวแปร\n",
        "\n",
        "เช่น print(f'หนึ่ง บวก สอง (1+2) เท่ากับ สาม ({1+2})’)\n",
        "\n",
        "print(f'{a}+{b} = {a+b}’) —> 5+2=7\n",
        "\n",
        "##-boolean (ตัวแปรที่มีค่า true หรือ false) ตรรกศาสตร์\n",
        "\n",
        "print(b_T and b_F) —> False\n",
        "\n",
        "##-replace() แทนที่ string\n",
        "\n",
        "st_test1.replace('e','อี') # เเทนที่ e ด้วย อี\n",
        "\n",
        "'Department of Statistics,'.replace('a','x') # เเทนที่ตัว a ด้วย x\n",
        "\n",
        "##-Split() แยก string\n",
        "\n",
        "'ab cd efg’.split() # ตัด string ที่ช่องว่าง —-> ['ab', 'cd', ‘efg']\n",
        "\n",
        "'abcdefg'.split('c') #แยกด้วย c (เอาc ออกแล้วแยก) —-> ['ab', 'defg']"
      ],
      "metadata": {
        "id": "NwFJ9qcWBycR"
      }
    },
    {
      "cell_type": "markdown",
      "source": [
        "#Data Structure\n",
        "\n",
        "##-list()\n",
        "\n",
        "เก็บอะไรก็ได้ ลำดับมีความสำคัญ\n",
        "\n",
        "list_b = ['ab',2,3.14 , list_a] # กำหนดตัวแปร จำนวนสมาชิกใน list นับตาม ,\n",
        "\n",
        "list_a[3] # เอาสมาชิกตัวที่ 4 เริ่มนับจาก 0\n",
        "\n",
        "list_a[-1] # index -1 คือตัวสุดท้ายของ list\n",
        "\n",
        "##-append() เพิ่มสมาชิกใน list\n",
        "\n",
        "list_x1.append(2) # เก็บ 2 ไปไว้ใน list_x1\n",
        "\n",
        "##-pop() ลบสมาชิกใน list\n",
        "\n",
        "list_x1.pop() # จะลบจากตัวท้ายสุดก่อน\n",
        "\n",
        "##len() ตรวจสอบจำนวนสมาชิกของ list\n",
        "\n",
        "print(list_b) # เเสดง list_b\n",
        "\n",
        "print(len(list_b)) # เเสดงจำนวนสมาชิกของ list_b\n",
        "\n",
        "##-list slicing :\n",
        "\n",
        "list_a[-3:] # : colon # ดึงสมาชิกสามตัวสุดท้ายออกมาได้\n",
        "\n",
        "list_a[1:4] # จะเอาเลข 2 , 3 , 4\n",
        "\n",
        "list_a[:] # คือเอาทุกตัว\n",
        "\n",
        "list_a[1:-1:2] #เอาตั้่งแต่ตัวแรกถึงตัวก่อนสุดท้ายโดยมี step = 2\n",
        "\n",
        "##-range()\n",
        "\n",
        "range(21) # list ของเลข 0 จนถึง 20(จุดสุดท้าย)\n",
        "\n",
        "list(range(21)) # เรียก ตัวเลข 0-20 ----> [1, 2, 3, 4, 5, 6, 7, 8, 9, 10, 11, 12, 13,\n",
        "14, 15, 16, 17, 18, 19, 20]\n",
        "\n",
        "คำนวณว่าช่วงเวลา 12:30:15-13:41:07 ห่างกัน กี่ชั่วโมง กี่นาที กี่วินาที (print ออกมาให้สวยงาม)\n",
        "\n",
        "q1 = '12:30:15' #ข้อที่1\n",
        "\n",
        "Q1 = q1.split(\":\")\n",
        "\n",
        "hours1 = int(Q1[0])*3600\n",
        "\n",
        "minutes1 = int(Q1[1])*60\n",
        "\n",
        "seconds1 = int(Q1[2])\n",
        "\n",
        "q2 = '13:41:07'\n",
        "\n",
        "Q2 = q2.split(\":\")\n",
        "\n",
        "hours2 = int(Q2[0])*3600\n",
        "\n",
        "minutes2 = int(Q2[1])*60\n",
        "\n",
        "seconds2 = int(Q2[2])\n",
        "\n",
        "t1 = hours1 + minutes1 + seconds1\n",
        "\n",
        "t2 = hours2 + minutes2 + seconds2\n",
        "\n",
        "t3 = (t2-t1)\n",
        "\n",
        "h = int(t3/3600)\n",
        "\n",
        "m = int((t3%3600)/60)\n",
        "\n",
        "s = int(t3%60)\n",
        "\n",
        "print(f' จากเวลา {q1} ถึง {q2} เป็นเวลาห่างกัน {h}:{m}:{s}’)\n",
        "\n",
        "##-Dictionary\n",
        "\n",
        "dict_a = {1:'Happy','N':'New','2022':'Year'} # { } เรียกว่า curly brackets\n",
        "\n",
        "dict_a['N'] # กำหนดว่าตัว N คือ New\n",
        "\n",
        "dict_a.keys() # เเสดงผลของ keys ขึ้นมา index ของ dictionary = key\n",
        "\n",
        "dict_a.values() # เเสดงผลของค่าผลลัพธ์\n",
        "\n",
        "เพิ่มสมาชิกใน Dict\n",
        "\n",
        "dict_a[7] = 3.14 # index ใหม่ = keys 7 มีค่าเท่ากับ 3.14\n",
        "\n",
        "dict_a[7] = 2023\n",
        "\n",
        "dict_a #มันจะไปแทนตัวเดิม ---> {1: 'Happy', 'N': 'New', '2022': 'Year', 7: 2023}\n",
        "\n",
        "##-Numpy Array\n",
        "\n",
        "import numpy as np # การเรียกใช้งาน package (นัมไพ)\n",
        "\n",
        "list_A = [1,2,3,4,5] # สร้าง list\n",
        "\n",
        "arr_a = np.array(list_A) # สร้าง list ให้เเปลงเป็น array คำสั่งสร้าง array = numpy.array\n",
        "\n",
        "np.zeros()\n",
        "\n",
        "arr2_3_5_0 = np.zeros((3,5)) # สร้าง array 0 ที่มี 3 แถว 5 หลัก ที่มีค่าข้างในเป็น 0 ทั้งหมด\n",
        "\n",
        "np.ones()\n",
        "\n",
        "arr2_4_5_1 = np.ones((4,5)) # มี 4 เเถว 5 หลัก\n",
        "\n",
        "Tree = np.ones((15,9))\n",
        "\n",
        "Tree[1::,4] = 66\n",
        "\n",
        "Tree[3:6,3:6] = 66\n",
        "\n",
        "Tree[5:7,5:7] = 66\n",
        "\n",
        "Tree[5:7,2:7] = 66\n",
        "\n",
        "Tree[7:9,1:8] = 66\n",
        "\n",
        "Tree[9:12,0:9] = 66\n",
        "\n",
        "Tree[4:5,4:6:2] = 0\n",
        "\n",
        "Tree[6:7,3:7:2] = 0\n",
        "\n",
        "Tree[8:9,2:8:2] = 0\n",
        "\n",
        "Tree[10:11,1:9:2] = 0\n",
        "\n",
        "Tree[12:15,4] = 55\n",
        "\n",
        "print(Tree)\n",
        "\n",
        "identity matrix ได้ด้วย np.eye(ขนาด)\n",
        "\n",
        "np.eye(5)"
      ],
      "metadata": {
        "id": "zO1BVK3RCNv4"
      }
    },
    {
      "cell_type": "markdown",
      "source": [
        "#Basic Programming Concepts\n",
        "\n",
        "##-Functions\n",
        "\n",
        "def function_f1(x): #ชื่อ function = function_f1\n",
        "\n",
        " a = x**2 # ยกกำลัง\n",
        "\n",
        " y = a + 75\n",
        "\n",
        " return y #code ที่เยื้ืองเป็นส่วนหนึ่งของบรรทัดบนที่ไม่เยื้อง code\n",
        "\n",
        " # code ที่อยู่ลำดับเดียวกันมีความสำคัญเท่ากัน\n",
        "\n",
        "print('done!') # โค้ด level เดียวกันจะไม่ได้เป็นส่วนหนึ่งของกันและกัน\n",
        "\n",
        "#รันออกมาแล้วมันจะไปเก็บอยู่ในfunction_f1(x)\n",
        "\n",
        "——————————————————————————-\n",
        "\n",
        "def function_f1(x): #ชื่อ #x= input\n",
        "\n",
        " a = x**2 # ยกกำลัง\n",
        "\n",
        " y = a + 75 #function\n",
        "\n",
        " return\n",
        "\n",
        "——————————————————————————-\n",
        "\n",
        "def pi_v(): # ค่า pi\n",
        "\n",
        " y = 3.14159265359\n",
        "\n",
        " return y\n",
        "\n",
        "——————————————————————————-\n",
        "\n",
        "def print_name_id(name,id):\n",
        "\n",
        " print(f'ชื่อ {name} รหัสประจำตัว {id}') # แบบไม่มี return ค่า\n",
        "\n",
        "——————————————————————————-\n",
        "\n",
        "***Function ไม่มี process ไม่ได้\n",
        "\n",
        "-Looping(for) สำหรับทำงานซ้ำๆ\n",
        "\n",
        "for member in [1,2,3,4,5,6]: # member จะแทนด้วยสมาชิกใน list\n",
        "\n",
        " print(member)\n",
        "\n",
        "——>1\n",
        "\n",
        "2\n",
        "\n",
        "3\n",
        "\n",
        "4\n",
        "\n",
        "5\n",
        "\n",
        "6\n",
        "\n",
        "——————————————————————————-\n",
        "\n",
        "def print_name(name): #ตั้งสมาชิกใน list คือ name\n",
        "\n",
        " print(f'ฉันชื่อ {name}')\n",
        "\n",
        "for name in ['วัชราภรณ์','จุฑากาญจน์','ชลธิชา','ญาดา','กิตติคุณ']: #\n",
        "ดึงสมาชิกเเต่ละตัวมา\n",
        "\n",
        "เพื่อทำกับ function print_name\n",
        "\n",
        " print_name(name)\n",
        "\n",
        "ฉันชื่อ วัชราภรณ์\n",
        "\n",
        "ฉันชื่อ จุฑากาญจน์\n",
        "\n",
        "ฉันชื่อ ชลธิชา\n",
        "\n",
        "ฉันชื่อ ญาดา\n",
        "\n",
        "ฉันชื่อ กิตติคุณ\n",
        "\n",
        "——————————————————————————-\n",
        "\n",
        "for mem1 in range(2,5): # [2,3,4]\n",
        "\n",
        " print(f'now mem1 = {mem1}')\n",
        "\n",
        " for mem2 in range(1,13): # [1,2,3,4,5,6,7,8,9,10,11,12]\n",
        "\n",
        " print(f'{mem1} x {mem2} = {mem1*mem2}') # อย่าลืมเว้นย่อหน้าเข้ามาด้วย\n",
        "\n",
        " print(f'end inner for mem1 = {mem1}') # จุดจบของ loop ด้านใน now mem1 = 2\n",
        "\n",
        "2 x 1 = 2\n",
        "\n",
        "2 x 2 = 4\n",
        "\n",
        "2 x 3 = 6\n",
        "\n",
        "2 x 4 = 8\n",
        "\n",
        "2 x 5 = 10\n",
        "\n",
        "2 x 6 = 12\n",
        "\n",
        "2 x 7 = 14\n",
        "\n",
        "2 x 8 = 16\n",
        "\n",
        "2 x 9 = 18\n",
        "\n",
        "2 x 10 = 20\n",
        "\n",
        "2 x 11 = 22\n",
        "\n",
        "2 x 12 = 24\n",
        "\n",
        "end inner for mem1 = 2\n",
        "\n",
        "now mem1 = 3\n",
        "\n",
        "3 x 1 = 3\n",
        "\n",
        "3 x 2 = 6\n",
        "\n",
        "3 x 3 = 9\n",
        "\n",
        "3 x 4 = 12\n",
        "\n",
        "3 x 5 = 15\n",
        "\n",
        "3 x 6 = 18\n",
        "\n",
        "3 x 7 = 21\n",
        "\n",
        "3 x 8 = 24\n",
        "\n",
        "3 x 9 = 27\n",
        "\n",
        "3 x 10 = 30\n",
        "\n",
        "3 x 11 = 33\n",
        "\n",
        "3 x 12 = 36\n",
        "\n",
        "end inner for mem1 = 3\n",
        "\n",
        "now mem1 = 4\n",
        "\n",
        "4 x 1 = 4\n",
        "\n",
        "4 x 2 = 8\n",
        "\n",
        "4 x 3 = 12\n",
        "\n",
        "4 x 4 = 16\n",
        "\n",
        "4 x 5 = 20\n",
        "\n",
        "4 x 6 = 24\n",
        "\n",
        "4 x 7 = 28\n",
        "\n",
        "4 x 8 = 32\n",
        "\n",
        "4 x 9 = 36\n",
        "\n",
        "4 x 10 = 40\n",
        "\n",
        "4 x 11 = 44\n",
        "\n",
        "4 x 12 = 48\n",
        "\n",
        "end inner for mem1 = 4\n",
        "\n",
        "——————————————————————————-\n",
        "\n",
        "for i in range(100): # range(มีสมาชิก 100 ตัว)\n",
        "\n",
        " print('งง', end = ' ') # end = ' ' เว้นเเต่ละตัว\n",
        "\n",
        "งง งง งง งง งง งง งง งง งง งง งง งง งง งง งง งง งง งง งง งง งง งง งง งง งง งง งง งง งง งง งง\n",
        "งง งง งง งง งง งง งง งง งง งง งง งง งง งง งง งง งง งง งง งง งง งง งง งง งง งง งง งง งง งง งง\n",
        "งง งง งง งง งง งง งง งง งง งง งง งง งง งง งง งง งง งง งง งง งง งง งง งง งง งง งง งง งง งง งง\n",
        "งง งง งง งง งง งง งง\n",
        "\n",
        "-operator ที่ใข้ตรวจสอบ condition\n",
        "\n",
        "a = 10 == 20 # ถามว่า 10 เท่ากับ 20 มั้ย?\n",
        "\n",
        "print(a) —-> False\n",
        "\n",
        "——————————————————————————-\n",
        "\n",
        "def grading(x):\n",
        "\n",
        " if x is int():\n",
        "\n",
        " if x < 0:\n",
        "\n",
        " y = f'คะเเนน {x} ไม่สามารถตัดเกรดได้'\n",
        "\n",
        " elif x < 50:\n",
        "\n",
        " y = f'คะเเนน {x} ได้เกรด F'\n",
        "\n",
        " elif x < 55:\n",
        "\n",
        " y = f'คะเเนน {x} ได้เกรด D'\n",
        "\n",
        " elif x < 60:\n",
        "\n",
        " y = f'คะเเนน {x} ได้เกรด D+'\n",
        "\n",
        " elif x < 65:\n",
        "\n",
        " y = f'คะเเนน {x} ได้เกรด C'\n",
        "\n",
        " elif x < 70:\n",
        "\n",
        " y = f'คะเเนน {x} ได้เกรด C+'\n",
        "\n",
        " elif x < 75:\n",
        "\n",
        " y = f'คะเเนน {x} ได้เกรด B'\n",
        "\n",
        " elif x < 80:\n",
        "\n",
        " y = f'คะเเนน {x} ได้เกรด B+'\n",
        "\n",
        " elif x <= 100:\n",
        "\n",
        " y = f'คะเเนน {x} ได้เกรด A'\n",
        "\n",
        " else:\n",
        "\n",
        " y = 'ไม่สามารถตัดเกรดได้'\n",
        "\n",
        " else:\n",
        "\n",
        " y=f'คะเเนน {x} ไม่สามารถตัดเกรดได้'\n",
        "\n",
        " return y"
      ],
      "metadata": {
        "id": "mhqxGgyPE7PA"
      }
    },
    {
      "cell_type": "markdown",
      "source": [
        "##Pandas101\n",
        "\n",
        "import pandas as pd\n",
        "\n",
        "from google.colab import drive\n",
        "\n",
        "drive.mount('/content/drive') # mount = เชื่อมไดร์ฟ\n",
        "\n",
        "data0 = pd.read_csv('/content/drive/MyDrive/DataViz23Data/BKK.csv') #เปิด\n",
        "Drive ในแถบ Files ฝั่งซ้ายแล้ว copy path มาได้เลย\n",
        "\n",
        "data0\n",
        "\n",
        "data0.shape # ตรวจสอบจำนวน (แถว,คอลัมน์)\n",
        "\n",
        "data0.describe() # ดูภาพรวมทางสถิติของข้อมูล\n",
        "\n",
        "##-คำสั่ง .iloc\n",
        "\n",
        "data0.iloc[0,6] #iloc เปลี่ยนมุมมองเป็น np.array ชี้เป็นแถว คอลัม = [row,column]\n",
        "\n",
        "##Table Query\n",
        "\n",
        "small_df = data0.iloc[-5:,:] # เอา 5 แถวสุดท้าย ของทุกคอลัม\n",
        "\n",
        "small_df\n",
        "\n",
        "small_df[[False,True,True,False,False]] #True = เอาแถวนั้น ,Fal\n",
        "\n",
        "small_df['Approved_buget']<1000000 # งบน้อยกว่า1000000\n",
        "\n",
        "อยากได้รายได้ที่ได้รับอนุมัติงบประมาณที่มากกว่า 1 ล้านบาท แต่ไม่เกิน 2 ล้าน\n",
        "\n",
        "(data0[‘Approved_buget’]<=2000000)&(data0['Approved_buget']>1000000)\n",
        "\n",
        "data0[(data0['Approved_buget']<=2000000)&(data0['Approved_buget']>1000\n",
        "000)]\n",
        "\n",
        "##-Missing Value\n",
        "\n",
        "data0.isnull() # ตรวจสอบว่าค่านั้นเป็นค่า missing(ว่าง) หรือไม่ # True = ค่าว่าง\n",
        "\n",
        "data0.isnull().any() #.any( )คือการเอาค่าความจริง ใน column มา or กัน ///False คือ\n",
        "ไม่มี missing เลย /// True มีค่าว่างต้องจัดการ\n",
        "\n",
        "data0.isnull().any().any() # any รอบแรกสรุปแต่ละคอลัม ,any เอาค่าที่ได้จากตอนแรกมา or\n",
        "กัน เพื่อดูว่าทั้งตารางมีค่าว่างหรือเปล่า\n",
        "\n",
        "รายการขุดลอกคูคลองของ'สำนักงานเขตคลองสาน' และ 'สำนักงานเขตคลองสามวา'\n",
        "\n",
        "df = pd.DataFrame(data0,columns=['Department','Item_name'])\n",
        "\n",
        "df.set_index('Department', inplace=True)\n",
        "\n",
        "result = df.loc[[\"สำนักงานเขตคลองสามวา\",\"สำนักงานเขตคลองสาน\"],['Item_name']]\n",
        "\n",
        "result\n",
        "\n",
        "ลบ Missing\n",
        "\n",
        "data0.dropna().shape\n",
        "\n",
        "data0.dropna(subset=[‘Core_budget_code']).shape\n",
        "\n",
        "Fillna()\n",
        "\n",
        "set(data0['Core_budget_code']) # เลือกเฉพาะค่าที่ไม่ซ้ำกันออกมา\n",
        "\n",
        "data0.fillna('-',inplace=True) # แทนค่า nan ด้วย -\n",
        "\n",
        "unit.fillna(value={'count_room_utility':0,'area_total_min_wa':unit['area_total_min\n",
        "_wa'].mean()}) #dic {}\n",
        "\n",
        "dropna()\n",
        "\n",
        "unit.dropna(axis=1) # เอาเเค่คอลัมที่ไม่มีmissing เลย\n",
        "\n",
        "unit.dropna(how = 'all') # ตัดทุกแถวที่เป็น missing หมด\n",
        "\n",
        "unit.dropna(axis=1, thresh=42000) # แนวตั้ง // int ใส่จำนวนที่มีค่า missing เกินกี่ค่า\n",
        "ถึงจะลบ\n",
        "\n",
        "ตัดเฉพาะคอลัมที่กำหนด\n",
        "\n",
        "unit.dropna(subset=['propertytype_name_en','price_min','area_usable_min']) #\n",
        "3columnนี้จะไม่มี missingแน่นอน\n",
        "\n",
        "##-การสร้าง Columns เพิ่ม\n",
        "\n",
        "df['ชื่อ column ใหม่'] = list of data #list of data มีจำนวนสมาชิก เท่ากับ จำนวน row ของ\n",
        "ตาราง\n",
        "\n",
        "small_df['ผู้รับผิดชอบ'] = [‘ลุงตู่','ลุงตู่','ลุงป้อม','ชัชชาติ','พิธา']\n",
        "\n",
        "##-ลบ Columns\n",
        "\n",
        "small_df.drop(axis=1,columns=['Core_budget_code']) # Axis = 1 แกนตั้ง, Axis = 0\n",
        "\n",
        "แกนนอน (row)\n",
        "\n",
        "ต่อตาราง pd.concat()\n",
        "\n",
        "แกน Y\n",
        "\n",
        "dataall = pd.concat([unitA,unitB])\n",
        "\n",
        "แกน X\n",
        "\n",
        "unit.merge(project, left_on='project_id', right_on='project_id') # จะต่อด้วยKey\n",
        "อะไร // ซ้ายของ unit\n",
        "หาราคาบ้านที่แพงที่สุดในจังหวัดขอนแก่น\n",
        "\n",
        "this = unit.merge(project, left_on='project_id', right_on='project_id')\n",
        "\n",
        "this[this['province_name_th']=='ขอนแก่น'] #หาบ้านที่อยู่ในจังหวัดขอนแก่น"
      ],
      "metadata": {
        "id": "yNH0tHq8GpLn"
      }
    },
    {
      "cell_type": "markdown",
      "source": [
        "##Pandas102\n",
        "\n",
        "import pandas as pd\n",
        "\n",
        "import os\n",
        "\n",
        "from google.colab import drive # เชื่อมบัญชีกับ google drive\n",
        "\n",
        "drive.mount('/content/drive') # เช็คว่าเชื่อมติดหรือไม่\n",
        "\n",
        "path = '/content/drive/My Drive/dataviz_2021_data' # ชี้ว่าใน google drive\n",
        "โฟลเดอร์ที่เราอยากได้\n",
        "\n",
        "data_df.head() # ดูหัวตารางเเถวบน\n",
        "\n",
        "ต่อตาราง\n",
        "\n",
        "##-ต่อในเเนวเเกน Y (เพิ่มจำนวนข้อมูล)\n",
        "\n",
        "BKK = data_df[data_df['province_of_onset']=='กรุงเทพมหานคร'] # เลือกดู กรุงเทพ\n",
        "\n",
        "BKK.head() # ต้องออกมา 5 เเถว\n",
        "\n",
        "BKK2 = data_df[data_df['province_of_onset']=='กรุงเทพมหานคร']\n",
        "\n",
        "[['sex','age','nationality']] # เลือกดู กรุงเทพเเต่เลือกเฉพาะคอลัมน์'sex','age',\n",
        "'nationality'\n",
        "\n",
        "BKK2.head()\n",
        "\n",
        "pd.concat([BKK2,KKC2]) # ถ้าคอลัมน์เป็นชื่อเดียวกันจะ สลับที่ให้เลย\n",
        "\n",
        "-ต่อในเเนวเเกน X (เพิ่มรายละเอียดของข้อมูล)\n",
        "\n",
        "ตาราง1personal_data , ตาราง 2 covid_data\n",
        "\n",
        "personalcovid_data = personal_data.merge(covid_data) # นำ no.1 มาเเปะ จะเอา\n",
        "ตารางสองมาเเปะ คือ covid_data มาต่อ\n",
        "\n",
        "personalcovid_data.head()\n",
        "\n",
        "——————————————————————————-\n",
        "\n",
        "คอนโดแล้วเรียงจากราคาถูกที่สุด 3 อันดับแรก\n",
        "\n",
        "unit_df[unit_df['propertytype_name_en']=='Condo'].sort_values(by=['price_min'\n",
        "]).iloc[:3] #ทำให้เหลือแค่ข้อมูลคอนโดก่อนแล้วค่อย sort by\n",
        "\n",
        "unit_df[unit_df['propertytype_name_en']=='Condo'].sort_values(by=['price_min'\n",
        "]).iloc[:3,-1] #ดูจังหวัด\n",
        "\n",
        "##-Group by\n",
        "\n",
        "unit_df.groupby('province_en').min().head() #จัดกลุ่มโดยใช้ Column 'province_en'\n",
        "และหา min column ที่เหลือ\n",
        "\n",
        "unit_df.groupby(‘province_en')['price_min'].min().head()\n",
        "\n",
        "หา 10 อันดับอสังหาริมทรัพย์ที่แพงที่สุดเป็นรายจังหวัด\n",
        "\n",
        "unit_df.groupby('province_en')\n",
        "\n",
        "['price_min'].max().reset_index().sort_values(by='price_min',ascending=\n",
        "False).head(10)\n",
        "\n",
        "——————————————————————————-\n",
        "\n",
        "หา 5 อันดับ condo ที่แพงที่สุดเป็นรายจังหวัด (2-6)\n",
        "\n",
        "unit_df[unit_df[‘propertytype_name_en']=='Condo'].groupby('province_en')\n",
        "['price_min'].max().reset_index().sort_values(by='price_min',ascending=False).he\n",
        "ad(10)\n",
        "\n",
        "##-Create Pandas table\n",
        "\n",
        "data_list = [{'account':'Jones LLC','Jan':150,'Feb':200,'Mar':140},\n",
        " {'account':'Alpha Co','Jan':200,'Feb':210,'Mar':215},\n",
        " {'account':'Blue Inc','Jan':50,'Feb':90,'Mar':95},\n",
        " ] # สร้าง list ขึ้นมา\n",
        "\n",
        "df1 = pd.DataFrame(data_list) # สร้างตาราง\n",
        "\n",
        "df1"
      ],
      "metadata": {
        "id": "8TmxkgZIHRpd"
      }
    },
    {
      "cell_type": "markdown",
      "source": [
        "# การจัดการข้อความในการเเสดงผล (Print)\n"
      ],
      "metadata": {
        "id": "0_qKwmkbJc4L"
      }
    },
    {
      "cell_type": "markdown",
      "source": [
        "## ข้อความ (string)\n",
        "### test heading 3"
      ],
      "metadata": {
        "id": "KOiORbW3OpDm"
      }
    },
    {
      "cell_type": "code",
      "source": [
        "'สถิติ' # ' เรียกว่า  quote"
      ],
      "metadata": {
        "colab": {
          "base_uri": "https://localhost:8080/",
          "height": 35
        },
        "id": "tviuJDsJK9zF",
        "outputId": "2c154dcd-33a2-4290-b08d-4dfab136bae8"
      },
      "execution_count": null,
      "outputs": [
        {
          "output_type": "execute_result",
          "data": {
            "application/vnd.google.colaboratory.intrinsic+json": {
              "type": "string"
            },
            "text/plain": [
              "'สถิติ'"
            ]
          },
          "metadata": {},
          "execution_count": 1
        }
      ]
    },
    {
      "cell_type": "code",
      "source": [
        "\"สถิติ\" # \" เรียกว่า double quote"
      ],
      "metadata": {
        "colab": {
          "base_uri": "https://localhost:8080/",
          "height": 35
        },
        "id": "f0BRzSvzLOQ0",
        "outputId": "2f63e467-4bee-45dd-96cf-e4cc1629ca15"
      },
      "execution_count": null,
      "outputs": [
        {
          "output_type": "execute_result",
          "data": {
            "application/vnd.google.colaboratory.intrinsic+json": {
              "type": "string"
            },
            "text/plain": [
              "'สถิติ'"
            ]
          },
          "metadata": {},
          "execution_count": 2
        }
      ]
    },
    {
      "cell_type": "code",
      "source": [
        "11 + 3  # ถ้าเป็นตัวเลขสามารถบวก ลบ ได้เป็นปกติ"
      ],
      "metadata": {
        "colab": {
          "base_uri": "https://localhost:8080/"
        },
        "id": "NTDUpk8gLyX0",
        "outputId": "6f677a92-9662-43f1-e53c-3f5a9a856673"
      },
      "execution_count": null,
      "outputs": [
        {
          "output_type": "execute_result",
          "data": {
            "text/plain": [
              "14"
            ]
          },
          "metadata": {},
          "execution_count": 3
        }
      ]
    },
    {
      "cell_type": "code",
      "source": [
        "'1' + '3' # ถ้าเป็นข้อความนำมาบวกกัน จะนำมาต่อกัน # string + string คือ การต่อ string"
      ],
      "metadata": {
        "colab": {
          "base_uri": "https://localhost:8080/",
          "height": 35
        },
        "id": "iOT7s-e8L1G7",
        "outputId": "ad501d25-bbe5-41f5-adfb-f2b61150807c"
      },
      "execution_count": null,
      "outputs": [
        {
          "output_type": "execute_result",
          "data": {
            "application/vnd.google.colaboratory.intrinsic+json": {
              "type": "string"
            },
            "text/plain": [
              "'13'"
            ]
          },
          "metadata": {},
          "execution_count": 4
        }
      ]
    },
    {
      "cell_type": "code",
      "source": [
        "1 - 3 # ถ้าเป็นตัวเลขสามารถบวก ลบ ได้เป็นปกติ"
      ],
      "metadata": {
        "colab": {
          "base_uri": "https://localhost:8080/"
        },
        "id": "8qimKfh0MEoz",
        "outputId": "0353b780-99cd-4048-9422-a03a5079f07d"
      },
      "execution_count": null,
      "outputs": [
        {
          "output_type": "execute_result",
          "data": {
            "text/plain": [
              "-2"
            ]
          },
          "metadata": {},
          "execution_count": 5
        }
      ]
    },
    {
      "cell_type": "code",
      "source": [
        "'1' - '3' # error เพราะไม่สามารถนำข้อความมาต่อกันได้ # - string ไม่สามารถทำได้"
      ],
      "metadata": {
        "colab": {
          "base_uri": "https://localhost:8080/",
          "height": 165
        },
        "id": "W-63BPs_L7yT",
        "outputId": "5db202e1-879a-4493-cd15-5653ee593a04"
      },
      "execution_count": null,
      "outputs": [
        {
          "output_type": "error",
          "ename": "TypeError",
          "evalue": "ignored",
          "traceback": [
            "\u001b[0;31m---------------------------------------------------------------------------\u001b[0m",
            "\u001b[0;31mTypeError\u001b[0m                                 Traceback (most recent call last)",
            "\u001b[0;32m<ipython-input-3-7a0c37000aef>\u001b[0m in \u001b[0;36m<cell line: 1>\u001b[0;34m()\u001b[0m\n\u001b[0;32m----> 1\u001b[0;31m \u001b[0;34m'1'\u001b[0m \u001b[0;34m-\u001b[0m \u001b[0;34m'3'\u001b[0m \u001b[0;31m# error เพราะไม่สามารถนำข้อความมาต่อกันได้ # - string ไม่สามารถทำได้\u001b[0m\u001b[0;34m\u001b[0m\u001b[0;34m\u001b[0m\u001b[0m\n\u001b[0m",
            "\u001b[0;31mTypeError\u001b[0m: unsupported operand type(s) for -: 'str' and 'str'"
          ]
        }
      ]
    },
    {
      "cell_type": "markdown",
      "source": [
        "## print(ข้อความ)\n",
        "`print(ข้อความ)`"
      ],
      "metadata": {
        "id": "uDd_xdlQNE8b"
      }
    },
    {
      "cell_type": "code",
      "execution_count": null,
      "metadata": {
        "colab": {
          "base_uri": "https://localhost:8080/"
        },
        "id": "yebGhek0INBO",
        "outputId": "898ee368-9205-49a6-f622-635b675f3f84"
      },
      "outputs": [
        {
          "output_type": "stream",
          "name": "stdout",
          "text": [
            "stat ,\n",
            "sids\n"
          ]
        }
      ],
      "source": [
        "print('stat',',') # เเสดง output ออกมาที่หน้าจอ\n",
        "print('sids')"
      ]
    },
    {
      "cell_type": "markdown",
      "source": [
        "##Quiz1\n",
        "print มาก ที่มี ก.ไก่ 100 ตัว"
      ],
      "metadata": {
        "id": "RUJfsU1I7ygW"
      }
    },
    {
      "cell_type": "code",
      "source": [
        "print('มา' ,end=100*'ก')"
      ],
      "metadata": {
        "colab": {
          "base_uri": "https://localhost:8080/"
        },
        "id": "BAhFWGaz4jzF",
        "outputId": "3c98c85f-0684-4add-d312-5434d21a9fa1"
      },
      "execution_count": null,
      "outputs": [
        {
          "output_type": "stream",
          "name": "stdout",
          "text": [
            "มากกกกกกกกกกกกกกกกกกกกกกกกกกกกกกกกกกกกกกกกกกกกกกกกกกกกกกกกกกกกกกกกกกกกกกกกกกกกกกกกกกกกกกกกกกกกกกกกกกกก"
          ]
        }
      ]
    },
    {
      "cell_type": "markdown",
      "source": [
        "# ตัวแปร (Variables)"
      ],
      "metadata": {
        "id": "dvj7y7zmKCu0"
      }
    },
    {
      "cell_type": "code",
      "source": [
        "a = 12\n",
        "b = 1.3"
      ],
      "metadata": {
        "id": "PngsCYJP0bvS"
      },
      "execution_count": null,
      "outputs": []
    },
    {
      "cell_type": "code",
      "source": [
        "modulo (%) #การหารเอาเศษ เช็คเลขคู่เลขคี่ได้ด้วยการหารด้วย2"
      ],
      "metadata": {
        "colab": {
          "base_uri": "https://localhost:8080/",
          "height": 130
        },
        "id": "ZzAYCFWd-bh2",
        "outputId": "e08c58c6-4989-48a0-a476-31ee593f7bb5"
      },
      "execution_count": null,
      "outputs": [
        {
          "output_type": "error",
          "ename": "SyntaxError",
          "evalue": "ignored",
          "traceback": [
            "\u001b[0;36m  File \u001b[0;32m\"<ipython-input-2-af36ce5fd729>\"\u001b[0;36m, line \u001b[0;32m1\u001b[0m\n\u001b[0;31m    modulo (%) #การหารเอาเศษ เช็คเลขคู่เลขคี่ได้ด้วยการหารด้วย2\u001b[0m\n\u001b[0m            ^\u001b[0m\n\u001b[0;31mSyntaxError\u001b[0m\u001b[0;31m:\u001b[0m invalid syntax\n"
          ]
        }
      ]
    },
    {
      "cell_type": "code",
      "source": [
        "7%4"
      ],
      "metadata": {
        "colab": {
          "base_uri": "https://localhost:8080/"
        },
        "id": "sKqUNtU4-8d5",
        "outputId": "2fd9f700-5210-4581-a292-daa739c3ee57"
      },
      "execution_count": null,
      "outputs": [
        {
          "output_type": "execute_result",
          "data": {
            "text/plain": [
              "3"
            ]
          },
          "metadata": {},
          "execution_count": 3
        }
      ]
    },
    {
      "cell_type": "code",
      "source": [
        "4**4 #'**' คือการยกกำลัง 4ยกกำลัง4"
      ],
      "metadata": {
        "colab": {
          "base_uri": "https://localhost:8080/"
        },
        "id": "Vg0GKFbb_JNf",
        "outputId": "f17bad82-26e8-4dac-b305-819687df2d92"
      },
      "execution_count": null,
      "outputs": [
        {
          "output_type": "execute_result",
          "data": {
            "text/plain": [
              "256"
            ]
          },
          "metadata": {},
          "execution_count": 4
        }
      ]
    },
    {
      "cell_type": "code",
      "source": [
        "vartest1 = 1+3 # การตั้งตัวเเปรไว้"
      ],
      "metadata": {
        "id": "A6rvPytoKGVA"
      },
      "execution_count": null,
      "outputs": []
    },
    {
      "cell_type": "code",
      "source": [
        "vartest1 # เเสดงค่าของตัวเเปร"
      ],
      "metadata": {
        "colab": {
          "base_uri": "https://localhost:8080/"
        },
        "id": "mDAL-utDN3Pk",
        "outputId": "aaec23c2-67b5-4081-8ab2-76f2459ebab9"
      },
      "execution_count": null,
      "outputs": [
        {
          "output_type": "execute_result",
          "data": {
            "text/plain": [
              "4"
            ]
          },
          "metadata": {},
          "execution_count": 10
        }
      ]
    },
    {
      "cell_type": "code",
      "source": [
        "print(vartest1) # เเสดง output ออกมา"
      ],
      "metadata": {
        "colab": {
          "base_uri": "https://localhost:8080/"
        },
        "id": "1VJfnVPFN_AU",
        "outputId": "405e8414-5c5d-4228-92d8-5c8c261b5d0d"
      },
      "execution_count": null,
      "outputs": [
        {
          "output_type": "stream",
          "name": "stdout",
          "text": [
            "4\n"
          ]
        }
      ]
    },
    {
      "cell_type": "code",
      "source": [
        "vartest2 = '1' + '3' # ตั้งตัวเเปรไว้"
      ],
      "metadata": {
        "id": "ymUgIYFGOEJE"
      },
      "execution_count": null,
      "outputs": []
    },
    {
      "cell_type": "code",
      "source": [
        "vartest2 # เเสดงค่าของตัวเเปร"
      ],
      "metadata": {
        "colab": {
          "base_uri": "https://localhost:8080/",
          "height": 35
        },
        "id": "fizC3osKOJIJ",
        "outputId": "6a561348-a192-4b3e-b4aa-ef290bbee354"
      },
      "execution_count": null,
      "outputs": [
        {
          "output_type": "execute_result",
          "data": {
            "application/vnd.google.colaboratory.intrinsic+json": {
              "type": "string"
            },
            "text/plain": [
              "'13'"
            ]
          },
          "metadata": {},
          "execution_count": 13
        }
      ]
    },
    {
      "cell_type": "code",
      "source": [
        "print(vartest2)  # เเสดง output ออกมา"
      ],
      "metadata": {
        "colab": {
          "base_uri": "https://localhost:8080/"
        },
        "id": "nt_KO2ZYOPKZ",
        "outputId": "fd6186eb-8dcd-498c-e493-0d91ed8ae2d8"
      },
      "execution_count": null,
      "outputs": [
        {
          "output_type": "stream",
          "name": "stdout",
          "text": [
            "13\n"
          ]
        }
      ]
    },
    {
      "cell_type": "markdown",
      "source": [
        "## ข้อกำหนดในการตั้งชื่อตัวแปร\n",
        "\n",
        "1. ตั้งให้สื่อความหมาย\n",
        "\n",
        "2. ต้องเป็นภาษาอังกฤษ\n",
        "\n",
        "3. ใช้ตัวเลขผสมกับตัวหนังสือได้ เเต่ห้ามขึ้นต้นด้วยตัวเลข\n",
        "\n",
        "4. ห้ามมีเว้นวรรคในชื่อตัวเเปร\n",
        "\n",
        "5. ตัวใหญ่กับตัวเล็ก ค่าไม่เท่ากัน"
      ],
      "metadata": {
        "id": "WUHA86naOwRr"
      }
    },
    {
      "cell_type": "code",
      "source": [
        "1a = 7 # ไม่สามารถทำได้เพราะขึ้นต้นด้วยตัวเลข"
      ],
      "metadata": {
        "colab": {
          "base_uri": "https://localhost:8080/",
          "height": 130
        },
        "id": "zz8sSdKGOTC_",
        "outputId": "0d857097-d5bd-4704-c37d-29f4610f0213"
      },
      "execution_count": null,
      "outputs": [
        {
          "output_type": "error",
          "ename": "SyntaxError",
          "evalue": "ignored",
          "traceback": [
            "\u001b[0;36m  File \u001b[0;32m\"<ipython-input-15-049d46413056>\"\u001b[0;36m, line \u001b[0;32m1\u001b[0m\n\u001b[0;31m    1a = 7 # ไม่สามารถทำได้เพราะขึ้นต้นด้วยตัวเลข\u001b[0m\n\u001b[0m     ^\u001b[0m\n\u001b[0;31mSyntaxError\u001b[0m\u001b[0;31m:\u001b[0m invalid syntax\n"
          ]
        }
      ]
    },
    {
      "cell_type": "code",
      "source": [
        "variable a = 1 # ตัวแปรต้องเป็นคำหนึ่งคำ # ห้ามมีเว้นวรรคในชื่อตัวแปร"
      ],
      "metadata": {
        "colab": {
          "base_uri": "https://localhost:8080/",
          "height": 130
        },
        "id": "LofyhjYTPNLA",
        "outputId": "62d2a272-a700-404a-bcaf-034cc9484cf3"
      },
      "execution_count": null,
      "outputs": [
        {
          "output_type": "error",
          "ename": "SyntaxError",
          "evalue": "ignored",
          "traceback": [
            "\u001b[0;36m  File \u001b[0;32m\"<ipython-input-16-60162d5a0cab>\"\u001b[0;36m, line \u001b[0;32m1\u001b[0m\n\u001b[0;31m    variable a = 1 # ตัวแปรต้องเป็นคำหนึ่งคำ # ห้ามมีเว้นวรรคในชื่อตัวแปร\u001b[0m\n\u001b[0m             ^\u001b[0m\n\u001b[0;31mSyntaxError\u001b[0m\u001b[0;31m:\u001b[0m invalid syntax\n"
          ]
        }
      ]
    },
    {
      "cell_type": "markdown",
      "source": [
        "## Advanced Printing\n",
        "เราสามารถ print code ร่วมกับข้อความได้\n",
        "\n",
        "```python\n",
        "print(f'ข้อความ{code}')\n",
        "```\n",
        "\n"
      ],
      "metadata": {
        "id": "6vF9c6blQAIK"
      }
    },
    {
      "cell_type": "code",
      "source": [
        "print(f'หนึ่ง บวก สอง (1+2) เท่ากับ สาม ({1+2})') # {} เรียกว่า  Curly Brackets"
      ],
      "metadata": {
        "colab": {
          "base_uri": "https://localhost:8080/"
        },
        "id": "j4ZWaEM-PebC",
        "outputId": "291ce10c-801c-47bf-d8be-c78181d4615d"
      },
      "execution_count": null,
      "outputs": [
        {
          "output_type": "stream",
          "name": "stdout",
          "text": [
            "หนึ่ง บวก สอง (1+2) เท่ากับ สาม (3)\n"
          ]
        }
      ]
    },
    {
      "cell_type": "code",
      "source": [
        "a = 1\n",
        "b = 2\n",
        "print(f'หนึ่ง บวก สอง ({a}+{b}) เท่ากับ สาม ({a+b})') # สามารถกำหนดตัวเเปรมาใส่ในข้อความได้"
      ],
      "metadata": {
        "colab": {
          "base_uri": "https://localhost:8080/"
        },
        "id": "sDUlxRFmRVeH",
        "outputId": "14c6b1bf-4810-4ed7-927f-411d0ba6531d"
      },
      "execution_count": null,
      "outputs": [
        {
          "output_type": "stream",
          "name": "stdout",
          "text": [
            "หนึ่ง บวก สอง (1+2) เท่ากับ สาม (3)\n"
          ]
        }
      ]
    },
    {
      "cell_type": "code",
      "source": [
        "a = 5\n",
        "b = 2"
      ],
      "metadata": {
        "id": "gtYGpGgLRmT6"
      },
      "execution_count": null,
      "outputs": []
    },
    {
      "cell_type": "code",
      "source": [
        "print(f'{a}+{b} = {a+b}')"
      ],
      "metadata": {
        "colab": {
          "base_uri": "https://localhost:8080/"
        },
        "id": "w6fiBEQbRs4D",
        "outputId": "bf3c753d-74d0-4788-b6a6-e84329ff51d7"
      },
      "execution_count": null,
      "outputs": [
        {
          "output_type": "stream",
          "name": "stdout",
          "text": [
            "5+2 = 7\n"
          ]
        }
      ]
    },
    {
      "cell_type": "code",
      "source": [
        "print(f'{a}+{b} = {a+b}')"
      ],
      "metadata": {
        "colab": {
          "base_uri": "https://localhost:8080/"
        },
        "id": "fLl-RvcxTfPu",
        "outputId": "ef97e387-b412-495b-e009-5b6d3de99924"
      },
      "execution_count": null,
      "outputs": [
        {
          "output_type": "stream",
          "name": "stdout",
          "text": [
            "5+2 = 7\n"
          ]
        }
      ]
    },
    {
      "cell_type": "code",
      "source": [
        "a = -1\n",
        "b = 11"
      ],
      "metadata": {
        "id": "5vSnpKe7R2E0"
      },
      "execution_count": null,
      "outputs": []
    },
    {
      "cell_type": "markdown",
      "source": [
        "## ชนิดของตัวแปร"
      ],
      "metadata": {
        "id": "WLExg3fxUV16"
      }
    },
    {
      "cell_type": "markdown",
      "source": [
        "### char(acter) (ตัวอักษร)"
      ],
      "metadata": {
        "id": "sWtmmdZcUcUx"
      }
    },
    {
      "cell_type": "code",
      "source": [
        "a = 'Ch'"
      ],
      "metadata": {
        "id": "EPzGvNGkTgYt"
      },
      "execution_count": null,
      "outputs": []
    },
    {
      "cell_type": "code",
      "source": [
        "b = 'aracter'"
      ],
      "metadata": {
        "id": "-_lcAYD5U9A3"
      },
      "execution_count": null,
      "outputs": []
    },
    {
      "cell_type": "code",
      "source": [
        "print(f'a={a} b={b}, then {a}+{b} = {a+b}') # string + string คือมาต่อกันได้"
      ],
      "metadata": {
        "colab": {
          "base_uri": "https://localhost:8080/"
        },
        "id": "TwtykU3lU_fk",
        "outputId": "8545ef5b-a6ad-4001-ae50-82b2ca0dc8b2"
      },
      "execution_count": null,
      "outputs": [
        {
          "output_type": "stream",
          "name": "stdout",
          "text": [
            "a=Ch b=aracter, then Ch+aracter = Character\n"
          ]
        }
      ]
    },
    {
      "cell_type": "code",
      "source": [
        "A = 'c'\n",
        "B = 'a'"
      ],
      "metadata": {
        "id": "Cpui1t7NVAwZ"
      },
      "execution_count": null,
      "outputs": []
    },
    {
      "cell_type": "code",
      "source": [
        "print(A+B) # string + string คือมาต่อกันได้"
      ],
      "metadata": {
        "colab": {
          "base_uri": "https://localhost:8080/"
        },
        "id": "9PANuJjBVd9Q",
        "outputId": "ca810ebc-350f-4c7c-dde3-97e481c0336a"
      },
      "execution_count": null,
      "outputs": [
        {
          "output_type": "stream",
          "name": "stdout",
          "text": [
            "ca\n"
          ]
        }
      ]
    },
    {
      "cell_type": "markdown",
      "source": [
        "### int(eger) (จำนวนเต็ม)"
      ],
      "metadata": {
        "id": "zRSuzie4WNsS"
      }
    },
    {
      "cell_type": "code",
      "source": [
        "int_a = 7\n",
        "int_b = 2"
      ],
      "metadata": {
        "id": "ROS4G3ARVfvU"
      },
      "execution_count": null,
      "outputs": []
    },
    {
      "cell_type": "code",
      "source": [
        "int_c = int_a + int_b # เอาตัวเเปรมารับตัวผลการกระทำได้\n",
        "print(int_c)"
      ],
      "metadata": {
        "colab": {
          "base_uri": "https://localhost:8080/"
        },
        "id": "kAoS0lvSWh-9",
        "outputId": "deaa14e5-12ed-4e80-86ec-8ac75d7c6ff6"
      },
      "execution_count": null,
      "outputs": [
        {
          "output_type": "stream",
          "name": "stdout",
          "text": [
            "9\n"
          ]
        }
      ]
    },
    {
      "cell_type": "markdown",
      "source": [
        "### Float (จำนวนจริง ทศนิยม)"
      ],
      "metadata": {
        "id": "ws93VK4eXOZY"
      }
    },
    {
      "cell_type": "code",
      "source": [
        "fl_a = 7. # ใส่เเค่ . ด้านหลังตัวเลขก็จะกลายเป็น ทศนิยมไปเลย\n",
        "fl_b = 2.571"
      ],
      "metadata": {
        "id": "LmRKm6W-WqN2"
      },
      "execution_count": null,
      "outputs": []
    },
    {
      "cell_type": "code",
      "source": [
        "fl_a"
      ],
      "metadata": {
        "colab": {
          "base_uri": "https://localhost:8080/"
        },
        "id": "KCWHJ_xZX35I",
        "outputId": "5c74f973-d748-443f-8614-6602357454f0"
      },
      "execution_count": null,
      "outputs": [
        {
          "output_type": "execute_result",
          "data": {
            "text/plain": [
              "7.0"
            ]
          },
          "metadata": {},
          "execution_count": 31
        }
      ]
    },
    {
      "cell_type": "code",
      "source": [
        "fl_b"
      ],
      "metadata": {
        "colab": {
          "base_uri": "https://localhost:8080/"
        },
        "id": "3VUs5jWvXxXe",
        "outputId": "cdaae65f-9112-4657-82e3-9b4e82f9574b"
      },
      "execution_count": null,
      "outputs": [
        {
          "output_type": "execute_result",
          "data": {
            "text/plain": [
              "2.571"
            ]
          },
          "metadata": {},
          "execution_count": 32
        }
      ]
    },
    {
      "cell_type": "code",
      "source": [
        "print(fl_a) # เเสดงเป็น float"
      ],
      "metadata": {
        "colab": {
          "base_uri": "https://localhost:8080/"
        },
        "id": "Bk241dd6YYOB",
        "outputId": "3fdd87c2-c752-4223-c60f-7bb93c99fca5"
      },
      "execution_count": null,
      "outputs": [
        {
          "output_type": "stream",
          "name": "stdout",
          "text": [
            "7.0\n"
          ]
        }
      ]
    },
    {
      "cell_type": "markdown",
      "source": [
        "### Boolean (ตัวเเปรที่มีค่า True หรือ False) ตรรกศาสตร์"
      ],
      "metadata": {
        "id": "iHUmwF7oZQER"
      }
    },
    {
      "cell_type": "code",
      "source": [
        "b_T = True"
      ],
      "metadata": {
        "id": "ZpxAg5soYbu3"
      },
      "execution_count": null,
      "outputs": []
    },
    {
      "cell_type": "code",
      "source": [
        "b_F = False"
      ],
      "metadata": {
        "id": "KPSL3jFtZtNt"
      },
      "execution_count": null,
      "outputs": []
    },
    {
      "cell_type": "markdown",
      "source": [
        "### Complex number (จำนวนเชิงซ้อน)"
      ],
      "metadata": {
        "id": "nkk5sXsTasVw"
      }
    },
    {
      "cell_type": "code",
      "source": [
        "x = 1 + 2j"
      ],
      "metadata": {
        "id": "vyS7Ddw0ZwyT"
      },
      "execution_count": null,
      "outputs": []
    },
    {
      "cell_type": "markdown",
      "source": [
        "### เราสามารถตรวจสอบชนิดของตัวแปรด้วยคำสั่ง type"
      ],
      "metadata": {
        "id": "5enTLNhVbquZ"
      }
    },
    {
      "cell_type": "code",
      "source": [
        "print(f'ตัวแปร x ค่าคือ {x} ชนิด {type(x)}') # เอาไว้ดูชนิดของตัวแปร"
      ],
      "metadata": {
        "colab": {
          "base_uri": "https://localhost:8080/"
        },
        "id": "xwByj0p5aoVd",
        "outputId": "ec542ccb-96f8-4439-a30b-f82603cb4b15"
      },
      "execution_count": null,
      "outputs": [
        {
          "output_type": "stream",
          "name": "stdout",
          "text": [
            "ตัวแปร x ค่าคือ (1+2j) ชนิด <class 'complex'>\n"
          ]
        }
      ]
    },
    {
      "cell_type": "code",
      "source": [
        "print(f'ตัวแปร A ค่าคือ {A} ชนิด {type(A)}')"
      ],
      "metadata": {
        "colab": {
          "base_uri": "https://localhost:8080/"
        },
        "id": "3RYgkcHwapb6",
        "outputId": "1502d863-ed62-46fc-ada8-45b35130186f"
      },
      "execution_count": null,
      "outputs": [
        {
          "output_type": "stream",
          "name": "stdout",
          "text": [
            "ตัวแปร A ค่าคือ c ชนิด <class 'str'>\n"
          ]
        }
      ]
    },
    {
      "cell_type": "code",
      "source": [
        "print(f'ตัวแปร a ค่าคือ {a} ชนิด {type(a)}')"
      ],
      "metadata": {
        "colab": {
          "base_uri": "https://localhost:8080/"
        },
        "id": "f7BBRZwDb0O0",
        "outputId": "edce9457-1b25-4157-d823-a701d04773af"
      },
      "execution_count": null,
      "outputs": [
        {
          "output_type": "stream",
          "name": "stdout",
          "text": [
            "ตัวแปร a ค่าคือ Ch ชนิด <class 'str'>\n"
          ]
        }
      ]
    },
    {
      "cell_type": "markdown",
      "source": [
        "## การแปลงชนิดของตัวแปร (Variable Casting)\n",
        "\n",
        "\n"
      ],
      "metadata": {
        "id": "2Zl5tXJ0cuup"
      }
    },
    {
      "cell_type": "code",
      "source": [
        "print(f'int_a = {int_a} int_b = {int_b} Fl_a = {fl_a} fl_b = {fl_b}')"
      ],
      "metadata": {
        "colab": {
          "base_uri": "https://localhost:8080/"
        },
        "id": "SvCHKGUXcfMl",
        "outputId": "f77e7fb7-6da7-4b00-abc9-a70180466d8a"
      },
      "execution_count": null,
      "outputs": [
        {
          "output_type": "stream",
          "name": "stdout",
          "text": [
            "int_a = 7 int_b = 2 Fl_a = 7.0 fl_b = 2.571\n"
          ]
        }
      ]
    },
    {
      "cell_type": "code",
      "source": [
        "str_a = '6'\n",
        "str_b = '-2'"
      ],
      "metadata": {
        "id": "zemZjK5VdR5o"
      },
      "execution_count": null,
      "outputs": []
    },
    {
      "cell_type": "code",
      "source": [
        "str_a2int = int(str_a) # การเเปลงจาก string ไปเป็น int\n",
        "print(f'ตัวแปร str_a2int ค่าคือ {str_a2int} ชนิด {type(str_a2int)} ')"
      ],
      "metadata": {
        "colab": {
          "base_uri": "https://localhost:8080/"
        },
        "id": "KIvvKFRPdwZV",
        "outputId": "a321e3c7-e164-4723-9fb2-17fb0334e066"
      },
      "execution_count": null,
      "outputs": [
        {
          "output_type": "stream",
          "name": "stdout",
          "text": [
            "ตัวแปร str_a2int ค่าคือ 6 ชนิด <class 'int'> \n"
          ]
        }
      ]
    },
    {
      "cell_type": "code",
      "source": [
        "str_a2int + int_a"
      ],
      "metadata": {
        "colab": {
          "base_uri": "https://localhost:8080/"
        },
        "id": "1pM-aAoneHFO",
        "outputId": "03fb3bc2-e29f-47d6-9a36-3c090c27290e"
      },
      "execution_count": null,
      "outputs": [
        {
          "output_type": "execute_result",
          "data": {
            "text/plain": [
              "13"
            ]
          },
          "metadata": {},
          "execution_count": 43
        }
      ]
    },
    {
      "cell_type": "code",
      "source": [
        "str_a + int_a # ไม่สามารถนำ string + int ได้"
      ],
      "metadata": {
        "colab": {
          "base_uri": "https://localhost:8080/",
          "height": 165
        },
        "id": "RFPWuDWTeasO",
        "outputId": "a0557962-2b29-4268-9304-0ca8da1c6dfa"
      },
      "execution_count": null,
      "outputs": [
        {
          "output_type": "error",
          "ename": "TypeError",
          "evalue": "ignored",
          "traceback": [
            "\u001b[0;31m---------------------------------------------------------------------------\u001b[0m",
            "\u001b[0;31mTypeError\u001b[0m                                 Traceback (most recent call last)",
            "\u001b[0;32m<ipython-input-44-e0cb324f8aa3>\u001b[0m in \u001b[0;36m<module>\u001b[0;34m()\u001b[0m\n\u001b[0;32m----> 1\u001b[0;31m \u001b[0mstr_a\u001b[0m \u001b[0;34m+\u001b[0m \u001b[0mint_a\u001b[0m \u001b[0;31m# ไม่สามารถนำ string + int ได้\u001b[0m\u001b[0;34m\u001b[0m\u001b[0;34m\u001b[0m\u001b[0m\n\u001b[0m",
            "\u001b[0;31mTypeError\u001b[0m: can only concatenate str (not \"int\") to str"
          ]
        }
      ]
    },
    {
      "cell_type": "code",
      "source": [
        "int_a + str_a  # สลับที่ก็ไม่สามารถทำได้อยู่ดี"
      ],
      "metadata": {
        "id": "wEuV_h0TecPv"
      },
      "execution_count": null,
      "outputs": []
    },
    {
      "cell_type": "code",
      "source": [
        "int(fl_b) # จะปัดลง"
      ],
      "metadata": {
        "colab": {
          "base_uri": "https://localhost:8080/"
        },
        "id": "P8rml8zCeqga",
        "outputId": "2faffc03-03a8-414a-f351-3ba4988c64c8"
      },
      "execution_count": null,
      "outputs": [
        {
          "output_type": "execute_result",
          "data": {
            "text/plain": [
              "2"
            ]
          },
          "metadata": {},
          "execution_count": 45
        }
      ]
    },
    {
      "cell_type": "code",
      "source": [
        "float(int_a) # ปรับจาก int เป็น float"
      ],
      "metadata": {
        "colab": {
          "base_uri": "https://localhost:8080/"
        },
        "id": "zG4lb3vtfKo-",
        "outputId": "9961e56b-d099-487d-ef7d-a1f4c56a9d5a"
      },
      "execution_count": null,
      "outputs": [
        {
          "output_type": "execute_result",
          "data": {
            "text/plain": [
              "7.0"
            ]
          },
          "metadata": {},
          "execution_count": 46
        }
      ]
    },
    {
      "cell_type": "code",
      "source": [
        "str(fl_b) # เเปลงจาก flaot เป็น string"
      ],
      "metadata": {
        "colab": {
          "base_uri": "https://localhost:8080/",
          "height": 35
        },
        "id": "7012-5elfubl",
        "outputId": "accddc7e-24ed-469e-baca-393b01ae9921"
      },
      "execution_count": null,
      "outputs": [
        {
          "output_type": "execute_result",
          "data": {
            "application/vnd.google.colaboratory.intrinsic+json": {
              "type": "string"
            },
            "text/plain": [
              "'2.571'"
            ]
          },
          "metadata": {},
          "execution_count": 47
        }
      ]
    },
    {
      "cell_type": "markdown",
      "source": [
        "## Operation เอาตัวแปรสองตัวมาทำอะไรกัน"
      ],
      "metadata": {
        "id": "Et5SgGuugLm5"
      }
    },
    {
      "cell_type": "markdown",
      "source": [
        "### operators (บวก (+), ลบ(-),คูณ(*),หาร(/),modulo(%),and(&),and(&),or(|) )"
      ],
      "metadata": {
        "id": "_-ExUFFJgmbW"
      }
    },
    {
      "cell_type": "code",
      "source": [
        "fl_a + int_b # สามารถนำมาบวกกันได้ เเต่ได้ผลลัพธ์ออกมาเป็น ทศนิยม"
      ],
      "metadata": {
        "colab": {
          "base_uri": "https://localhost:8080/"
        },
        "id": "bASZrEppfzL9",
        "outputId": "60166c16-c2dd-4a83-df43-a1513ea11e1e"
      },
      "execution_count": null,
      "outputs": [
        {
          "output_type": "execute_result",
          "data": {
            "text/plain": [
              "9.0"
            ]
          },
          "metadata": {},
          "execution_count": 48
        }
      ]
    },
    {
      "cell_type": "code",
      "source": [
        "9%2 # การหาร เอาเศษ ช่วยในการเช็คว่าเป็นการหาเลขคู่ หรือ เลขคี่"
      ],
      "metadata": {
        "colab": {
          "base_uri": "https://localhost:8080/"
        },
        "id": "0qHIvGbqg8HA",
        "outputId": "b0bf582e-16ba-4814-85b5-e35a56f15806"
      },
      "execution_count": null,
      "outputs": [
        {
          "output_type": "execute_result",
          "data": {
            "text/plain": [
              "1"
            ]
          },
          "metadata": {},
          "execution_count": 49
        }
      ]
    },
    {
      "cell_type": "code",
      "source": [
        "100%2 # ถ้าได้เป็น 0 เป็นเลขคู่ 1 เป็นเลขคี่"
      ],
      "metadata": {
        "colab": {
          "base_uri": "https://localhost:8080/"
        },
        "id": "RwgwXikfhRM2",
        "outputId": "5814aef4-06b9-40eb-edda-5738ab1833d9"
      },
      "execution_count": null,
      "outputs": [
        {
          "output_type": "execute_result",
          "data": {
            "text/plain": [
              "0"
            ]
          },
          "metadata": {},
          "execution_count": 50
        }
      ]
    },
    {
      "cell_type": "code",
      "source": [
        "int_a / int_b"
      ],
      "metadata": {
        "colab": {
          "base_uri": "https://localhost:8080/"
        },
        "id": "ZljuI2KChh98",
        "outputId": "a8e5aeeb-ed65-4fc7-a517-a2d662600832"
      },
      "execution_count": null,
      "outputs": [
        {
          "output_type": "execute_result",
          "data": {
            "text/plain": [
              "3.5"
            ]
          },
          "metadata": {},
          "execution_count": 51
        }
      ]
    },
    {
      "cell_type": "code",
      "source": [
        "int(int_a / int_b)  # สามารถ casting ออกมาเป็น int"
      ],
      "metadata": {
        "colab": {
          "base_uri": "https://localhost:8080/"
        },
        "id": "9p3gYsRYhz5S",
        "outputId": "085ec88a-6c11-47bb-c0a6-0c70c4e7bd4f"
      },
      "execution_count": null,
      "outputs": [
        {
          "output_type": "execute_result",
          "data": {
            "text/plain": [
              "3"
            ]
          },
          "metadata": {},
          "execution_count": 52
        }
      ]
    },
    {
      "cell_type": "code",
      "source": [
        "False & False # False เเละ False ได้ออกมาเป็น False"
      ],
      "metadata": {
        "colab": {
          "base_uri": "https://localhost:8080/"
        },
        "id": "biHfkk4nh5UA",
        "outputId": "ea64e456-0d84-4794-fb4a-51e80d578b44"
      },
      "execution_count": null,
      "outputs": [
        {
          "output_type": "execute_result",
          "data": {
            "text/plain": [
              "False"
            ]
          },
          "metadata": {},
          "execution_count": 53
        }
      ]
    },
    {
      "cell_type": "code",
      "source": [
        "False & True # False เเละ True ได้ออกมาเป็น False"
      ],
      "metadata": {
        "colab": {
          "base_uri": "https://localhost:8080/"
        },
        "id": "wqowUP2LiC0A",
        "outputId": "1e026b68-a04f-4bb7-9bf6-30b18d3390bf"
      },
      "execution_count": null,
      "outputs": [
        {
          "output_type": "execute_result",
          "data": {
            "text/plain": [
              "False"
            ]
          },
          "metadata": {},
          "execution_count": 54
        }
      ]
    },
    {
      "cell_type": "code",
      "source": [
        "False | True # False หรือ  True ได้ออกมาเป็น True"
      ],
      "metadata": {
        "colab": {
          "base_uri": "https://localhost:8080/"
        },
        "id": "wDMR6SHkiIW9",
        "outputId": "9882193b-19ff-4d32-b00d-f98e4e73607c"
      },
      "execution_count": null,
      "outputs": [
        {
          "output_type": "execute_result",
          "data": {
            "text/plain": [
              "True"
            ]
          },
          "metadata": {},
          "execution_count": 55
        }
      ]
    },
    {
      "cell_type": "markdown",
      "source": [
        "### String operations"
      ],
      "metadata": {
        "id": "s4BzbndYigLJ"
      }
    },
    {
      "cell_type": "markdown",
      "source": [
        "`+` -> concat, `*`-> repeat"
      ],
      "metadata": {
        "id": "e-3KRDSU1Qy5"
      }
    },
    {
      "cell_type": "code",
      "source": [
        "st_test1 = 'Department of Statistics,' # กำหนดตัวแปร\n",
        "st_test2 = 'Faculty of Science'"
      ],
      "metadata": {
        "id": "RSN_OCbPiYGV"
      },
      "execution_count": null,
      "outputs": []
    },
    {
      "cell_type": "code",
      "source": [
        "print(st_test1+st_test2) # สามารถนำ สอง string มาบวกกัน"
      ],
      "metadata": {
        "id": "GoLwgfQb0QEL",
        "outputId": "42dd04e4-2de6-4afd-a657-9cae4ddeec7b",
        "colab": {
          "base_uri": "https://localhost:8080/"
        }
      },
      "execution_count": null,
      "outputs": [
        {
          "output_type": "stream",
          "name": "stdout",
          "text": [
            "Department of Statistics,Faculty of Science\n"
          ]
        }
      ]
    },
    {
      "cell_type": "code",
      "source": [
        "print(10*'t') # สามารถนำstring มาคูณกับเลข เเล้วได้ออกมาเป็นจำนวนตามนั้น"
      ],
      "metadata": {
        "id": "2FV1zYYi0UqA",
        "outputId": "60f58d0d-b9de-44b9-cc85-307a014d8654",
        "colab": {
          "base_uri": "https://localhost:8080/"
        }
      },
      "execution_count": null,
      "outputs": [
        {
          "output_type": "stream",
          "name": "stdout",
          "text": [
            "tttttttttt\n"
          ]
        }
      ]
    },
    {
      "cell_type": "code",
      "source": [
        "print(3*st_test1) # คูณกับ string ได้"
      ],
      "metadata": {
        "id": "Lvm2t3-V0UxH",
        "outputId": "ed0c3af6-4ce6-47d0-f829-70c175c75f42",
        "colab": {
          "base_uri": "https://localhost:8080/"
        }
      },
      "execution_count": null,
      "outputs": [
        {
          "output_type": "stream",
          "name": "stdout",
          "text": [
            "Department of Statistics,Department of Statistics,Department of Statistics,\n"
          ]
        }
      ]
    },
    {
      "cell_type": "markdown",
      "source": [
        "### replace() แทนที่ string"
      ],
      "metadata": {
        "id": "Vrl1BSvT04FC"
      }
    },
    {
      "cell_type": "code",
      "source": [
        "st_test1.replace('e',' ') # เเทนที่ e ด้วย ช่องว่าง"
      ],
      "metadata": {
        "id": "ISdwcl290m1X",
        "outputId": "a68d36d9-0a9e-4478-c298-3b7a124073f0",
        "colab": {
          "base_uri": "https://localhost:8080/",
          "height": 35
        }
      },
      "execution_count": null,
      "outputs": [
        {
          "output_type": "execute_result",
          "data": {
            "application/vnd.google.colaboratory.intrinsic+json": {
              "type": "string"
            },
            "text/plain": [
              "'D partm nt of Statistics,'"
            ]
          },
          "metadata": {},
          "execution_count": 60
        }
      ]
    },
    {
      "cell_type": "code",
      "source": [
        "st_test1.replace('e','') # ลบ e ออก"
      ],
      "metadata": {
        "id": "7Q0ntkn11kX9",
        "outputId": "7c901c53-df04-48d6-83fd-4df13beff1df",
        "colab": {
          "base_uri": "https://localhost:8080/",
          "height": 35
        }
      },
      "execution_count": null,
      "outputs": [
        {
          "output_type": "execute_result",
          "data": {
            "application/vnd.google.colaboratory.intrinsic+json": {
              "type": "string"
            },
            "text/plain": [
              "'Dpartmnt of Statistics,'"
            ]
          },
          "metadata": {},
          "execution_count": 61
        }
      ]
    },
    {
      "cell_type": "code",
      "source": [
        "st_test1 # ต้นเเบบ"
      ],
      "metadata": {
        "id": "y3v2mB-A1vrj",
        "outputId": "373a7675-b34e-4f2c-ab1c-d9910b2e745c",
        "colab": {
          "base_uri": "https://localhost:8080/",
          "height": 35
        }
      },
      "execution_count": null,
      "outputs": [
        {
          "output_type": "execute_result",
          "data": {
            "application/vnd.google.colaboratory.intrinsic+json": {
              "type": "string"
            },
            "text/plain": [
              "'Department of Statistics,'"
            ]
          },
          "metadata": {},
          "execution_count": 62
        }
      ]
    },
    {
      "cell_type": "code",
      "source": [
        "'Department of Statistics,'.replace('a','x') # เเทนที่ตัว a ด้วย x"
      ],
      "metadata": {
        "id": "3mmfoDYa3EIC",
        "outputId": "6bb3eb86-914d-4aef-c760-1f5294d2685e",
        "colab": {
          "base_uri": "https://localhost:8080/",
          "height": 35
        }
      },
      "execution_count": null,
      "outputs": [
        {
          "output_type": "execute_result",
          "data": {
            "application/vnd.google.colaboratory.intrinsic+json": {
              "type": "string"
            },
            "text/plain": [
              "'Depxrtment of Stxtistics,'"
            ]
          },
          "metadata": {},
          "execution_count": 63
        }
      ]
    },
    {
      "cell_type": "markdown",
      "source": [
        "### ```split()``` แยก string"
      ],
      "metadata": {
        "id": "-HMUQLe_2L8C"
      }
    },
    {
      "cell_type": "code",
      "source": [
        "'a b c d e f g'.split() # ตัด string ที่ช่องว่าง"
      ],
      "metadata": {
        "id": "gCd-MR3E1zoO",
        "outputId": "7554c4ae-e3cb-4c04-bf9f-472e63d120ad",
        "colab": {
          "base_uri": "https://localhost:8080/"
        }
      },
      "execution_count": null,
      "outputs": [
        {
          "output_type": "execute_result",
          "data": {
            "text/plain": [
              "['a,b,c,d,e,f,g']"
            ]
          },
          "metadata": {},
          "execution_count": 64
        }
      ]
    },
    {
      "cell_type": "code",
      "source": [
        "'a,b/c,d e/f g'.split('/') # เเยกด้วย /"
      ],
      "metadata": {
        "id": "VYIa23mh3SaN",
        "outputId": "f17dedd5-c4e7-4a0c-ff3e-395ee0a10582",
        "colab": {
          "base_uri": "https://localhost:8080/"
        }
      },
      "execution_count": null,
      "outputs": [
        {
          "output_type": "execute_result",
          "data": {
            "text/plain": [
              "['a,b', 'c,d e', 'f g']"
            ]
          },
          "metadata": {},
          "execution_count": 65
        }
      ]
    }
  ]
}